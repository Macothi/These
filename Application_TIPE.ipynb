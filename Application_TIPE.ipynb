{
 "cells": [
  {
   "cell_type": "code",
   "execution_count": 1,
   "id": "45c66749",
   "metadata": {},
   "outputs": [],
   "source": [
    "import pandas as pd\n",
    "pd.options.mode.chained_assignment = None # pour pas avoir erreur quand copie dans colonne df\n",
    "import numpy as np\n",
    "import matplotlib.pyplot as plt\n",
    "from itertools import product\n",
    "import random"
   ]
  },
  {
   "cell_type": "markdown",
   "id": "03228ee1",
   "metadata": {},
   "source": [
    "# Système isolé"
   ]
  },
  {
   "cell_type": "markdown",
   "id": "fb4648aa",
   "metadata": {},
   "source": [
    "## Nombre états "
   ]
  },
  {
   "cell_type": "code",
   "execution_count": 58,
   "id": "cae08f76",
   "metadata": {},
   "outputs": [
    {
     "name": "stdout",
     "output_type": "stream",
     "text": [
      "59049\n"
     ]
    }
   ],
   "source": [
    "B = 1 # Champ magnétique\n",
    "kB = 1.38e-23\n",
    "\n",
    "N = 10 # Nombre d'atomes\n",
    "J = 1\n",
    "mi = int(2*J+1) # Nombre de projection différentes du moment magnétique\n",
    "\n",
    "n = mi**N # Nombre d'état possibles\n",
    "print(n)"
   ]
  },
  {
   "cell_type": "code",
   "execution_count": 59,
   "id": "1f9749c1",
   "metadata": {},
   "outputs": [
    {
     "name": "stdout",
     "output_type": "stream",
     "text": [
      "123\n"
     ]
    }
   ],
   "source": [
    "# Création de chaque projection en associant une nombre à chacune\n",
    "j = np.arange(1,mi+1,1)\n",
    "s = str()\n",
    "for i in j:\n",
    "    s += str(i)\n",
    "print(s)"
   ]
  },
  {
   "cell_type": "code",
   "execution_count": 60,
   "id": "815a548e",
   "metadata": {},
   "outputs": [
    {
     "name": "stdout",
     "output_type": "stream",
     "text": [
      "                                Etats\n",
      "0      [1, 1, 1, 1, 1, 1, 1, 1, 1, 1]\n",
      "1      [1, 1, 1, 1, 1, 1, 1, 1, 1, 2]\n",
      "2      [1, 1, 1, 1, 1, 1, 1, 1, 1, 3]\n",
      "3      [1, 1, 1, 1, 1, 1, 1, 1, 2, 1]\n",
      "4      [1, 1, 1, 1, 1, 1, 1, 1, 2, 2]\n",
      "...                               ...\n",
      "59044  [3, 3, 3, 3, 3, 3, 3, 3, 2, 2]\n",
      "59045  [3, 3, 3, 3, 3, 3, 3, 3, 2, 3]\n",
      "59046  [3, 3, 3, 3, 3, 3, 3, 3, 3, 1]\n",
      "59047  [3, 3, 3, 3, 3, 3, 3, 3, 3, 2]\n",
      "59048  [3, 3, 3, 3, 3, 3, 3, 3, 3, 3]\n",
      "\n",
      "[59049 rows x 1 columns]\n"
     ]
    }
   ],
   "source": [
    "# Création du dataframe avec tout les combinaisons possibles en considérant les N atomes et mi projections\n",
    "# Chaque ligne correspond à un micro-état différent\n",
    "etats = list(product(s, repeat=N))\n",
    "\n",
    "df = pd.DataFrame({'Etats':etats})\n",
    "\n",
    "df['Etats'] = [list(df['Etats'][i]) for i in df.index]        \n",
    "df['Etats'] = [[int(j) for j in df['Etats'][i]] for i in df.index]\n",
    "        \n",
    "print(df)"
   ]
  },
  {
   "cell_type": "markdown",
   "id": "23c74b99",
   "metadata": {},
   "source": [
    "## Calcul énergie"
   ]
  },
  {
   "cell_type": "code",
   "execution_count": 61,
   "id": "79b8d175",
   "metadata": {},
   "outputs": [
    {
     "name": "stdout",
     "output_type": "stream",
     "text": [
      "                                Etats  Ei\n",
      "0      [1, 1, 1, 1, 1, 1, 1, 1, 1, 1] -10\n",
      "1      [1, 1, 1, 1, 1, 1, 1, 1, 1, 2] -11\n",
      "2      [1, 1, 1, 1, 1, 1, 1, 1, 1, 3] -12\n",
      "3      [1, 1, 1, 1, 1, 1, 1, 1, 2, 1] -11\n",
      "4      [1, 1, 1, 1, 1, 1, 1, 1, 2, 2] -12\n",
      "...                               ...  ..\n",
      "59044  [3, 3, 3, 3, 3, 3, 3, 3, 2, 2] -28\n",
      "59045  [3, 3, 3, 3, 3, 3, 3, 3, 2, 3] -29\n",
      "59046  [3, 3, 3, 3, 3, 3, 3, 3, 3, 1] -28\n",
      "59047  [3, 3, 3, 3, 3, 3, 3, 3, 3, 2] -29\n",
      "59048  [3, 3, 3, 3, 3, 3, 3, 3, 3, 3] -30\n",
      "\n",
      "[59049 rows x 2 columns]\n"
     ]
    }
   ],
   "source": [
    "# Calcul de l'énergie our chaque micro-état / Ei = -B*mi\n",
    "df['Ei'] = [-B*sum(df['Etats'][i]) for i in df.index]\n",
    "print(df)"
   ]
  },
  {
   "cell_type": "code",
   "execution_count": 62,
   "id": "771a0854",
   "metadata": {},
   "outputs": [
    {
     "name": "stdout",
     "output_type": "stream",
     "text": [
      "Ei\n",
      "-20    8953\n",
      "-21    8350\n",
      "-19    8350\n",
      "-18    6765\n",
      "-22    6765\n",
      "-17    4740\n",
      "-23    4740\n",
      "-16    2850\n",
      "-24    2850\n",
      "-15    1452\n",
      "-25    1452\n",
      "-14     615\n",
      "-26     615\n",
      "-13     210\n",
      "-27     210\n",
      "-12      55\n",
      "-28      55\n",
      "-29      10\n",
      "-11      10\n",
      "-10       1\n",
      "-30       1\n",
      "Name: count, dtype: int64\n"
     ]
    }
   ],
   "source": [
    "Ei_diff = df['Ei'].value_counts() # Nombre de micro-états pour chaque énergie\n",
    "print(Ei_diff)\n",
    "nbr_Ei_diff = len(Ei_diff) # Nombre énergies différentes possibles"
   ]
  },
  {
   "cell_type": "markdown",
   "id": "2818fefb",
   "metadata": {},
   "source": [
    "## Entropie statistique"
   ]
  },
  {
   "cell_type": "code",
   "execution_count": 63,
   "id": "53606bb0",
   "metadata": {},
   "outputs": [],
   "source": [
    "# On mets les différentes énergies dans une liste\n",
    "Ei = []\n",
    "for i in Ei_diff.index:\n",
    "    Ei += [i]\n",
    "Ei.sort() # On trie la liste par ordre croissant\n",
    "\n",
    "# Calcul de l'entropie pour énergie Ei S = kB*ln(nbre micro-états avec Ei)\n",
    "# On bouce sur les différentes énergies\n",
    "S = []\n",
    "for i in Ei:\n",
    "    S += [kB*np.log(Ei_diff[i])]"
   ]
  },
  {
   "cell_type": "code",
   "execution_count": 64,
   "id": "123bbba6",
   "metadata": {},
   "outputs": [
    {
     "data": {
      "text/plain": [
       "Text(0, 0.5, 'Entropie statistique')"
      ]
     },
     "execution_count": 64,
     "metadata": {},
     "output_type": "execute_result"
    },
    {
     "data": {
      "image/png": "[encoded data removed]",
      "text/plain": [
       "<Figure size 640x480 with 1 Axes>"
      ]
     },
     "metadata": {},
     "output_type": "display_data"
    }
   ],
   "source": [
    "plt.plot(Ei,S,'+')\n",
    "plt.xlabel('Energie')\n",
    "plt.ylabel('Entropie statistique')"
   ]
  },
  {
   "cell_type": "markdown",
   "id": "95056660",
   "metadata": {},
   "source": [
    "## Température microcanonique"
   ]
  },
  {
   "cell_type": "code",
   "execution_count": 65,
   "id": "3caae717",
   "metadata": {},
   "outputs": [
    {
     "name": "stderr",
     "output_type": "stream",
     "text": [
      "C:\\Users\\Galy_\\AppData\\Local\\Temp\\ipykernel_1440\\2943417153.py:5: RuntimeWarning: divide by zero encountered in scalar divide\n",
      "  T += [1/invT]\n"
     ]
    },
    {
     "data": {
      "text/plain": [
       "Text(0, 0.5, 'Température')"
      ]
     },
     "execution_count": 65,
     "metadata": {},
     "output_type": "execute_result"
    },
    {
     "data": {
      "image/png": "[encoded data removed]",
      "text/plain": [
       "<Figure size 640x480 with 1 Axes>"
      ]
     },
     "metadata": {},
     "output_type": "display_data"
    }
   ],
   "source": [
    "# Cacul de la température schant que 1/T=dS/dE\n",
    "T = []\n",
    "for i in range(1,len(Ei)-1):\n",
    "    invT = (S[i+1]-S[i-1])/(Ei[i+1]-Ei[i-1])\n",
    "    T += [1/invT]\n",
    "\n",
    "plt.plot(Ei[1:-1],T,'+')\n",
    "plt.xlabel('Energie')\n",
    "plt.ylabel('Température')"
   ]
  },
  {
   "cell_type": "code",
   "execution_count": 66,
   "id": "2d4a7b88",
   "metadata": {},
   "outputs": [
    {
     "name": "stdout",
     "output_type": "stream",
     "text": [
      "[3.616558183032055e+22, 4.760271576131176e+22, 6.0029073269621246e+22, 7.495258113971289e+22, 9.451064377379739e+22, 1.2249862383612407e+23, 1.6765419051440667e+23, 2.5595423903340996e+23, 5.171801480693652e+23, inf, -5.171801480693652e+23, -2.5595423903340996e+23, -1.6765419051440667e+23, -1.2249862383612407e+23, -9.451064377379739e+22, -7.495258113971289e+22, -6.0029073269621246e+22, -4.760271576131176e+22, -3.616558183032055e+22]\n",
      "[-30, -29, -28, -27, -26, -25, -24, -23, -22, -21, -20, -19, -18, -17, -16, -15, -14, -13, -12, -11, -10]\n"
     ]
    }
   ],
   "source": [
    "print(T)\n",
    "print(Ei)"
   ]
  },
  {
   "cell_type": "code",
   "execution_count": 11,
   "id": "3863c992",
   "metadata": {},
   "outputs": [],
   "source": [
    "# Données récupérées pour N=10\n",
    "\n",
    "# J = 1\n",
    "T1 = [3.1470614630670417e+22, 4.2507024026519495e+22, 5.4086547007070984e+22, 6.74385986666432e+22, 8.435092887674079e+22, 1.074528931854594e+23, 1.4244384505879094e+23, 2.0370719647478944e+23, 3.442471112778129e+23, 1.0392477822794957e+24, -1.0392477822794957e+24, -3.442471112778129e+23, -2.0370719647478944e+23, -1.4244384505879094e+23, -1.074528931854594e+23, -8.435092887674079e+22, -6.74385986666432e+22, -5.4086547007070984e+22, -4.2507024026519495e+22, -3.1470614630670417e+22]\n",
    "E1 = [-30, -29, -28, -27, -26, -25, -24, -23, -22, -21, -20, -19, -18, -17, -16, -15, -14, -13, -12, -11, -10]\n",
    "\n",
    "# J = 1/2\n",
    "T1_2 = [3.1470614630670417e+22, 4.81782176045298e+22, 7.388010491472946e+22, 1.2948842702111907e+23, 3.974503585323956e+23, -3.974503585323956e+23, -1.2948842702111907e+23, -7.388010491472946e+22, -4.81782176045298e+22, -3.1470614630670417e+22]\n",
    "E1_2 = [-20, -19, -18, -17, -16, -15, -14, -13, -12, -11, -10]\n",
    "\n",
    "# J = 3/2\n",
    "T3_2 = [3.1470614630670417e+22, 4.2507024026519495e+22, 5.2271559452498665e+22, 6.222361228443135e+22, 7.301404280901675e+22, 8.513919862687425e+22, 9.93314538092906e+22, 1.165652983022751e+23, 1.3833756512253652e+23, 1.6725369002454948e+23, 2.0814865999457667e+23, 2.7135483901246587e+23, 3.8378087134717406e+23, 6.438834821871619e+23, 1.9377344019869128e+24, -1.9377344019869128e+24, -6.438834821871619e+23, -3.8378087134717406e+23, -2.7135483901246587e+23, -2.0814865999457667e+23, -1.6725369002454948e+23, -1.3833756512253652e+23, -1.165652983022751e+23, -9.93314538092906e+22, -8.513919862687425e+22, -7.301404280901675e+22, -6.222361228443135e+22, -5.2271559452498665e+22, -4.2507024026519495e+22, -3.1470614630670417e+22]\n",
    "E3_2 = [-40, -39, -38, -37, -36, -35, -34, -33, -32, -31, -30, -29, -28, -27, -26, -25, -24, -23, -22, -21, -20, -19, -18, -17, -16, -15, -14, -13, -12, -11, -10]\n"
   ]
  },
  {
   "cell_type": "code",
   "execution_count": 12,
   "id": "b9abfd4b",
   "metadata": {},
   "outputs": [
    {
     "data": {
      "image/png": "[encoded data removed]",
      "text/plain": [
       "<Figure size 640x480 with 1 Axes>"
      ]
     },
     "metadata": {},
     "output_type": "display_data"
    }
   ],
   "source": [
    "# Tracé de la température en donction de l'énergie\n",
    "#plt.plot(E1[1:],T1,'+',label='J=1')\n",
    "plt.plot(E1_2[1:],T1_2,'+',label='J=1/2')\n",
    "#plt.plot(E3_2[1:],T3_2,'+',label='J=3/2')\n",
    "plt.xlabel('Température')\n",
    "plt.ylabel('Energie')\n",
    "plt.legend()\n",
    "plt.show()"
   ]
  },
  {
   "cell_type": "markdown",
   "id": "a9b30554",
   "metadata": {},
   "source": [
    "# Système thermostaté"
   ]
  },
  {
   "cell_type": "markdown",
   "id": "37c4db33",
   "metadata": {},
   "source": [
    "## Pour une température "
   ]
  },
  {
   "cell_type": "code",
   "execution_count": 90,
   "id": "65f6c0dd",
   "metadata": {},
   "outputs": [
    {
     "name": "stdout",
     "output_type": "stream",
     "text": [
      "5.171801480693652e+23 -21\n"
     ]
    }
   ],
   "source": [
    "i = 8\n",
    "T_th = T[i] # on fixe une température\n",
    "E_th = Ei[i+1] # énergie assosciée\n",
    "\n",
    "print(T_th,E_th)\n",
    "\n",
    "Beta = 1/(kB*T_th)\n"
   ]
  },
  {
   "cell_type": "code",
   "execution_count": 91,
   "id": "c30d0033",
   "metadata": {},
   "outputs": [
    {
     "name": "stdout",
     "output_type": "stream",
     "text": [
      "   mi  Ei   Beta*Ei  exp(-Beta*Ei)        Pi   sum(Pi)     Pi*Ei\n",
      "0   1  -1 -0.140113       1.150404  0.287866  0.287866 -0.287866\n",
      "1   2  -2 -0.280226       1.323429  0.331163  0.619029 -0.662325\n",
      "2   3  -3 -0.420340       1.522479  0.380971  1.000000 -1.142913\n"
     ]
    }
   ],
   "source": [
    "J = 1\n",
    "mi = 2*J+1\n",
    "\n",
    "df_ = pd.DataFrame({'mi' : np.arange(1,mi+1,1)}) # Tableau avec les différents 'sous-états' possibles pour un atome\n",
    "\n",
    "df_['Ei'] = [-df_['mi'][i]*B for i in df_.index] # Energie de chaque 'sous état'\n",
    "\n",
    "df_['Beta*Ei'] = [Beta*df_['Ei'][i] for i in df_.index]\n",
    "\n",
    "df_['exp(-Beta*Ei)'] = [np.exp(-df_['Beta*Ei'][i]) for i in df_.index]\n",
    "\n",
    "# Fonction de partition\n",
    "zi = sum(df_['exp(-Beta*Ei)'])\n",
    "\n",
    "df_['Pi'] = [df_['exp(-Beta*Ei)'][i]/zi for i in df_.index] # Proba de chaque sous-état\n",
    "\n",
    "df_ = df_.sort_values(by = 'Pi') # on trie le dataframe par ordre croissant de proba\n",
    "\n",
    "# Colonne où pour chaque ligne on sommme la proba Pi d'un sous-état avec celle des sous-état précédents\n",
    "# La dernière est égale à 1 car on a sommé toutes les probas\n",
    "df_['sum(Pi)'] = [0 for i in df_.index]\n",
    "for i in df_.index:\n",
    "    if i==0:\n",
    "        df_['sum(Pi)'][i] = df_['Pi'][i]\n",
    "    else :\n",
    "        df_['sum(Pi)'][i] = df_['Pi'][i]+df_['sum(Pi)'][i-1]\n",
    "\n",
    "df_['Pi*Ei'] = [df_['Pi'][i]*df_['Ei'][i] for i in df_.index]\n",
    "\n",
    "# finalement on obtient un dataframe avec pour les différents sous-états considérés, les probas, énergie et autres associés\n",
    "print(df_)"
   ]
  },
  {
   "cell_type": "code",
   "execution_count": 92,
   "id": "6dea2b1e",
   "metadata": {},
   "outputs": [],
   "source": [
    "# Fonction qui créée aléatoirement un micro-état en considérant N atomes pouvant être chacun dans n'importe quel sous-état mi\n",
    "\n",
    "def crea_etats(N):\n",
    "    # Création d'une liste correspondant à la colonne sum(Pi)\n",
    "    sum_Pi = []\n",
    "    for i in df_.index:\n",
    "        if i == 0:\n",
    "            sum_Pi += [df_['Pi'][i]]\n",
    "        else :\n",
    "            sum_Pi += [df_['Pi'][i]+sum_Pi[-1]]\n",
    "    \n",
    "    pi = []\n",
    "    en = []\n",
    "    \n",
    "    for i in range(0,N):\n",
    "        x = random.random() # tire un nombre aléatoire entre 0 et 1 qui va nous permettre d'associer aléatoirement un sous-état à l'atome i \n",
    "        d = []\n",
    "        \n",
    "        # On compare ce nombre avec les différentes valeurs de la liste sum_Pi en la parcourant\n",
    "        for j in sum_Pi: \n",
    "            if j < x: # si x > l'élément j de la liste sum_Pi\n",
    "                d += [] # d reste vide\n",
    "                en += []\n",
    "            else : # sinon\n",
    "                d += [j] # on ajoute l'élément à la liste d\n",
    "\n",
    "        et = d[0] # on récupère seulement le premier élément de la liste car c'est celui qui nous intéresse car il correspond au sous-état dans lequel est l'atome        \n",
    "        \n",
    "        # on associé la proba et l'énergie que l'atome i a d'être dans ce sous-état\n",
    "        for h in df_.index:\n",
    "            if et == df_['sum(Pi)'][h]: # pour cela on compare et au valeurs de la colonne sum(Pi) du dataframe avec les sous-états possibles\n",
    "                pi += [df_['Pi'][h]] # proba associée \n",
    "                en += [df_['Ei'][h]] # énergie associée \n",
    "                \n",
    "    # On boucle la procédure pour les N atomes et on obtient 2 listes \n",
    "    # pi : avec la probas de chaque atomes d'être dans un sous-état éléatoirement tiré\n",
    "    # en : avec l'énergie de chaque atomes associée à la proba qu'il soit dans le sous-état éléatoirement tiré\n",
    "    return pi, en"
   ]
  },
  {
   "cell_type": "code",
   "execution_count": 93,
   "id": "9c3eacdc",
   "metadata": {},
   "outputs": [
    {
     "name": "stdout",
     "output_type": "stream",
     "text": [
      "                                                  Et_Pi  \\\n",
      "0     [0.331162689045763, 0.3809708897425428, 0.2878...   \n",
      "1     [0.3809708897425428, 0.2878664212116942, 0.287...   \n",
      "2     [0.331162689045763, 0.2878664212116942, 0.2878...   \n",
      "3     [0.2878664212116942, 0.3809708897425428, 0.331...   \n",
      "4     [0.3809708897425428, 0.3809708897425428, 0.331...   \n",
      "...                                                 ...   \n",
      "9995  [0.3809708897425428, 0.3809708897425428, 0.380...   \n",
      "9996  [0.331162689045763, 0.2878664212116942, 0.3311...   \n",
      "9997  [0.3809708897425428, 0.2878664212116942, 0.331...   \n",
      "9998  [0.3809708897425428, 0.3809708897425428, 0.380...   \n",
      "9999  [0.2878664212116942, 0.2878664212116942, 0.287...   \n",
      "\n",
      "                                         Et_Ei  Energie  \n",
      "0     [-1, -3, -3, -1, -2, -1, -2, -3, -3, -3]      -22  \n",
      "1     [-3, -2, -1, -2, -2, -3, -1, -2, -1, -2]      -19  \n",
      "2     [-1, -1, -3, -1, -3, -3, -3, -3, -2, -2]      -22  \n",
      "3     [-2, -1, -3, -1, -1, -3, -3, -3, -1, -1]      -19  \n",
      "4     [-2, -2, -2, -2, -1, -3, -1, -2, -1, -1]      -17  \n",
      "...                                        ...      ...  \n",
      "9995  [-1, -1, -2, -3, -2, -1, -2, -3, -2, -2]      -19  \n",
      "9996  [-3, -2, -3, -1, -3, -2, -2, -1, -1, -3]      -21  \n",
      "9997  [-3, -3, -3, -2, -2, -3, -1, -2, -1, -1]      -21  \n",
      "9998  [-2, -1, -3, -2, -2, -1, -3, -2, -1, -2]      -19  \n",
      "9999  [-1, -2, -3, -2, -1, -2, -2, -2, -2, -2]      -19  \n",
      "\n",
      "[10000 rows x 3 columns]\n"
     ]
    }
   ],
   "source": [
    "N = 10 # Nombre d'atomes\n",
    "M = 10000 # Nombre d'états différents qu'on veut créer\n",
    "\n",
    "df_etats = pd.DataFrame(index=range(0,M)) # Création dataframe avec M états\n",
    "\n",
    "df_etats['Et_Pi'] = [crea_etats(N)[0] for i in df_etats.index] # Colonnes avec les probas de chaque atome pour tous les états\n",
    "df_etats['Et_Ei'] = [crea_etats(N)[1] for i in df_etats.index] # Colonnes avec les énergies de chaque atome pour tous les états\n",
    "\n",
    "df_etats['Energie'] = [sum(df_etats['Et_Ei'][i]) for i in df_etats.index]  # Cacul de l'énergie de chaque état en sommant les énergies de chaque atomes de l'état\n",
    "\n",
    "print(df_etats)"
   ]
  },
  {
   "cell_type": "code",
   "execution_count": 94,
   "id": "a4c0850a",
   "metadata": {},
   "outputs": [
    {
     "name": "stdout",
     "output_type": "stream",
     "text": [
      "Energie\n",
      "-21    1529\n",
      "-20    1460\n",
      "-22    1412\n",
      "-19    1165\n",
      "-23    1141\n",
      "-18     800\n",
      "-24     752\n",
      "-17     541\n",
      "-25     440\n",
      "-16     231\n",
      "-26     230\n",
      "-15     106\n",
      "-27      95\n",
      "-14      45\n",
      "-28      29\n",
      "-13      16\n",
      "-12       3\n",
      "-29       3\n",
      "-11       2\n",
      "Name: count, dtype: int64\n"
     ]
    },
    {
     "data": {
      "text/plain": [
       "Text(0, 0.5, 'Nombre d etats')"
      ]
     },
     "execution_count": 94,
     "metadata": {},
     "output_type": "execute_result"
    },
    {
     "data": {
      "image/png": "[encoded data removed]",
      "text/plain": [
       "<Figure size 640x480 with 1 Axes>"
      ]
     },
     "metadata": {},
     "output_type": "display_data"
    }
   ],
   "source": [
    "Energie_etats = df_etats['Energie'].value_counts() # Nombre états pour chaque énergie\n",
    "print(Energie_etats)\n",
    "plt.plot(Energie_etats,'+')\n",
    "plt.xlabel('Energie')\n",
    "plt.ylabel('Nombre d etats')"
   ]
  },
  {
   "cell_type": "code",
   "execution_count": 95,
   "id": "8132005a",
   "metadata": {},
   "outputs": [
    {
     "name": "stdout",
     "output_type": "stream",
     "text": [
      "-21\n"
     ]
    }
   ],
   "source": [
    "print(Energie_etats.idxmax()) # Affichage du max de la courbe précédente qui correspond bien à l'énergie qu'on a calculé dans le cas du système isolé pour cette température de thermostat"
   ]
  },
  {
   "cell_type": "markdown",
   "id": "0a416a08",
   "metadata": {},
   "source": [
    "## Bouclage sur les différentes températures"
   ]
  },
  {
   "cell_type": "code",
   "execution_count": 19,
   "id": "cca9e22d",
   "metadata": {},
   "outputs": [
    {
     "name": "stdout",
     "output_type": "stream",
     "text": [
      "[-39.0, -38.0, -36.0, -35.0, -32.0, -31.0, -31.0, -29.0, -25.0, -24.0] [3.616558183032055e+22, 4.760271576131176e+22, 6.0029073269621246e+22, 7.495258113971289e+22, 9.451064377379739e+22, 1.2249862383612407e+23, 1.6765419051440667e+23, 2.5595423903340996e+23, 5.171801480693652e+23, inf]\n"
     ]
    }
   ],
   "source": [
    "J = 1.5\n",
    "mi = 2*J+1\n",
    "\n",
    "E = []\n",
    "T_th = []\n",
    "N = 10\n",
    "M = 10000\n",
    "\n",
    "    #T = np.linspace(0,100,100)\n",
    "\n",
    "for i in T:\n",
    "    if i > 0 and i != 'inf':\n",
    "     \n",
    "        T_th += [i] # Température du thermostat\n",
    "        beta = 1/(kB*i)\n",
    "        \n",
    "        # Pour chaque température création du dataframe avec pour les différents sous-états considérés, les probas, énergie et autres associés\n",
    "        df_ = pd.DataFrame({'mi' : np.arange(1,mi+1,1)}) \n",
    "        df_['Ei'] = [-df_['mi'][i]*B for i in df_.index] \n",
    "        df_['Beta*Ei'] = [beta*df_['Ei'][i] for i in df_.index]\n",
    "        df_['exp(-Beta*Ei)'] = [np.exp(-df_['Beta*Ei'][i]) for i in df_.index]\n",
    "        \n",
    "        zi = sum(df_['exp(-Beta*Ei)'])\n",
    "\n",
    "        df_['Pi'] = [df_['exp(-Beta*Ei)'][i]/zi for i in df_.index]\n",
    "        df_ = df_.sort_values(by = 'Pi')\n",
    "        df_['sum(Pi)'] = [0 for i in df_.index]\n",
    "        for j in df_.index:\n",
    "            if j==0:\n",
    "                df_['sum(Pi)'][j] = df_['Pi'][j]\n",
    "            else :\n",
    "                df_['sum(Pi)'][j] = df_['Pi'][j]+df_['sum(Pi)'][j-1]\n",
    "        df_['Pi*Ei'] = [df_['Pi'][j]*df_['Ei'][j] for j in df_.index]\n",
    "        \n",
    "        \n",
    "        # Pour chaque température création du dataframe avec les M états considérés et les énergies associées à chacun\n",
    "        df_etats = pd.DataFrame(index=range(0,M))\n",
    "        df_etats['Et_Pi'] = [crea_etats(N)[0] for i in df_etats.index] \n",
    "        df_etats['Et_Ei'] = [crea_etats(N)[1] for i in df_etats.index] \n",
    "        df_etats['Energie'] = [sum(df_etats['Et_Ei'][i]) for i in df_etats.index]  \n",
    "        \n",
    "        Energie_etats = df_etats['Energie'].value_counts() # Nombre états pour chaque énergie\n",
    "        \n",
    "        E += [Energie_etats.idxmax()] # on relève l'énergie associée au maximum d'état pour chaque température de thermostat\n",
    "\n",
    "print(E,T_th)"
   ]
  },
  {
   "cell_type": "code",
   "execution_count": 23,
   "id": "e42d75db",
   "metadata": {},
   "outputs": [],
   "source": [
    "# Données récupérées\n",
    "\n",
    "# J = 1\n",
    "Tth1 = [3.616558183032055e+22, 4.760271576131176e+22, 6.0029073269621246e+22, 7.495258113971289e+22, 9.451064377379739e+22, 1.2249862383612407e+23, 1.6765419051440667e+23, 2.5595423903340996e+23, 5.171801480693652e+23]\n",
    "Eth1 = [-29, -28, -27, -26, -25, -24, -23, -22, -21]\n",
    "\n",
    "# J = 1/2\n",
    "Tth1_2 = [3.807207405998015e+22, 5.832313106983258e+22, 9.408160134215162e+22, 1.9533662412524398e+23]\n",
    "Eth1_2 = [-19.0, -18.0, -17.0, -16.0]\n",
    "\n",
    "# J = 3/2\n",
    "Tth3_2 = [3.616558183032055e+22, 4.688629755777862e+22, 5.681506389366442e+22, 6.718835058072871e+22, 7.861182024255683e+22, 9.168938542884895e+22, 1.0726053477724685e+23, 1.2652160378477156e+23, 1.5142755459163393e+23, 1.8547370018320116e+23, 2.3558596022949683e+23, 3.179212945156285e+23, 4.809160948124397e+23, 9.665839254939578e+23]\n",
    "Eth3_2 = [-39.0, -38.0, -37.0, -36.0, -35.0, -34.0, -33.0, -32.0, -31.0, -30.0, -29.0, -28.0, -27.0, -26.0]"
   ]
  },
  {
   "cell_type": "code",
   "execution_count": 24,
   "id": "03aed583",
   "metadata": {},
   "outputs": [
    {
     "data": {
      "image/png": "[encoded data removed]",
      "text/plain": [
       "<Figure size 640x480 with 1 Axes>"
      ]
     },
     "metadata": {},
     "output_type": "display_data"
    }
   ],
   "source": [
    "#Tracé de l'énergie en fonction de la température pour différents J\n",
    "plt.plot(Tth1,Eth1,'+',label='J=1')\n",
    "plt.plot(Tth1_2,Eth1_2,'+',label='J=1/2')\n",
    "plt.plot(Tth3_2,Eth3_2,'+',label='J=3/2')\n",
    "plt.xlabel('Température')\n",
    "plt.ylabel('Energie')\n",
    "plt.legend()\n",
    "plt.show()"
   ]
  }
 ],
 "metadata": {
  "kernelspec": {
   "display_name": "Python 3 (ipykernel)",
   "language": "python",
   "name": "python3"
  },
  "language_info": {
   "codemirror_mode": {
    "name": "ipython",
    "version": 3
   },
   "file_extension": ".py",
   "mimetype": "text/x-python",
   "name": "python",
   "nbconvert_exporter": "python",
   "pygments_lexer": "ipython3",
   "version": "3.11.5"
  }
 },
 "nbformat": 4,
 "nbformat_minor": 5
}
