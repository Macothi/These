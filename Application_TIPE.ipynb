{
 "cells": [
  {
   "cell_type": "code",
   "execution_count": 1,
   "id": "45c66749",
   "metadata": {},
   "outputs": [],
   "source": [
    "import pandas as pd\n",
    "pd.options.mode.chained_assignment = None # pour pas avoir erreur quand copie dans colonne df\n",
    "import numpy as np\n",
    "import matplotlib.pyplot as plt\n",
    "from itertools import product\n",
    "import random"
   ]
  },
  {
   "cell_type": "markdown",
   "id": "03228ee1",
   "metadata": {},
   "source": [
    "# Système isolé"
   ]
  },
  {
   "cell_type": "markdown",
   "id": "fb4648aa",
   "metadata": {},
   "source": [
    "## Nombre états "
   ]
  },
  {
   "cell_type": "code",
   "execution_count": 2,
   "id": "cae08f76",
   "metadata": {},
   "outputs": [
    {
     "name": "stdout",
     "output_type": "stream",
     "text": [
      "Nombre d états possibles : 59049\n"
     ]
    }
   ],
   "source": [
    "B = 1 # Champ magnétique\n",
    "\n",
    "kB = 1.38e-23\n",
    "\n",
    "N = 10 # Nombre d'atomes\n",
    "J = 1\n",
    "mi = int(2*J+1) # Nombre de projection différentes du moment magnétique\n",
    "\n",
    "muB = 9e-21 # Magnéton de Bohr\n",
    "\n",
    "n = mi**N # Nombre d'état possibles\n",
    "print('Nombre d états possibles :',n)"
   ]
  },
  {
   "cell_type": "code",
   "execution_count": 70,
   "id": "1f9749c1",
   "metadata": {},
   "outputs": [
    {
     "name": "stdout",
     "output_type": "stream",
     "text": [
      "123\n"
     ]
    }
   ],
   "source": [
    "# Création de chaque projection en associant une nombre à chacune\n",
    "j = np.arange(1,mi+1,1)\n",
    "s = str()\n",
    "for i in j:\n",
    "    s += str(i)\n",
    "print(s)"
   ]
  },
  {
   "cell_type": "code",
   "execution_count": 71,
   "id": "815a548e",
   "metadata": {},
   "outputs": [
    {
     "name": "stdout",
     "output_type": "stream",
     "text": [
      "                                Etats\n",
      "0      [1, 1, 1, 1, 1, 1, 1, 1, 1, 1]\n",
      "1      [1, 1, 1, 1, 1, 1, 1, 1, 1, 2]\n",
      "2      [1, 1, 1, 1, 1, 1, 1, 1, 1, 3]\n",
      "3      [1, 1, 1, 1, 1, 1, 1, 1, 2, 1]\n",
      "4      [1, 1, 1, 1, 1, 1, 1, 1, 2, 2]\n",
      "...                               ...\n",
      "59044  [3, 3, 3, 3, 3, 3, 3, 3, 2, 2]\n",
      "59045  [3, 3, 3, 3, 3, 3, 3, 3, 2, 3]\n",
      "59046  [3, 3, 3, 3, 3, 3, 3, 3, 3, 1]\n",
      "59047  [3, 3, 3, 3, 3, 3, 3, 3, 3, 2]\n",
      "59048  [3, 3, 3, 3, 3, 3, 3, 3, 3, 3]\n",
      "\n",
      "[59049 rows x 1 columns]\n"
     ]
    }
   ],
   "source": [
    "# Création du dataframe avec tout les combinaisons possibles en considérant les N atomes et mi projections\n",
    "# Chaque ligne correspond à un micro-état différent\n",
    "etats = list(product(s, repeat=N))\n",
    "\n",
    "df = pd.DataFrame({'Etats':etats})\n",
    "\n",
    "df['Etats'] = [list(df['Etats'][i]) for i in df.index]        \n",
    "df['Etats'] = [np.array([int(j) for j in df['Etats'][i]]) for i in df.index]\n",
    "        \n",
    "print(df)"
   ]
  },
  {
   "cell_type": "markdown",
   "id": "23c74b99",
   "metadata": {},
   "source": [
    "## Calcul énergie"
   ]
  },
  {
   "cell_type": "markdown",
   "id": "30dc10f5",
   "metadata": {},
   "source": [
    "><div class=\"alert alert-block alert-warning\"> $$ E_{etat} = -\\mu _B B\\sum_j m_j $$"
   ]
  },
  {
   "cell_type": "code",
   "execution_count": 73,
   "id": "79b8d175",
   "metadata": {},
   "outputs": [
    {
     "name": "stdout",
     "output_type": "stream",
     "text": [
      "                                Etats            Ei\n",
      "0      [1, 1, 1, 1, 1, 1, 1, 1, 1, 1] -9.000000e-20\n",
      "1      [1, 1, 1, 1, 1, 1, 1, 1, 1, 2] -9.900000e-20\n",
      "2      [1, 1, 1, 1, 1, 1, 1, 1, 1, 3] -1.080000e-19\n",
      "3      [1, 1, 1, 1, 1, 1, 1, 1, 2, 1] -9.900000e-20\n",
      "4      [1, 1, 1, 1, 1, 1, 1, 1, 2, 2] -1.080000e-19\n",
      "...                               ...           ...\n",
      "59044  [3, 3, 3, 3, 3, 3, 3, 3, 2, 2] -2.520000e-19\n",
      "59045  [3, 3, 3, 3, 3, 3, 3, 3, 2, 3] -2.610000e-19\n",
      "59046  [3, 3, 3, 3, 3, 3, 3, 3, 3, 1] -2.520000e-19\n",
      "59047  [3, 3, 3, 3, 3, 3, 3, 3, 3, 2] -2.610000e-19\n",
      "59048  [3, 3, 3, 3, 3, 3, 3, 3, 3, 3] -2.700000e-19\n",
      "\n",
      "[59049 rows x 2 columns]\n"
     ]
    }
   ],
   "source": [
    "# Calcul de l'énergie our chaque micro-état / Ei = -B*mi*muB\n",
    "df['Ei'] = [-B*sum(df['Etats'][i])*muB for i in df.index]\n",
    "print(df)"
   ]
  },
  {
   "cell_type": "code",
   "execution_count": 74,
   "id": "771a0854",
   "metadata": {},
   "outputs": [
    {
     "name": "stdout",
     "output_type": "stream",
     "text": [
      "Ei\n",
      "-1.800000e-19    8953\n",
      "-1.890000e-19    8350\n",
      "-1.710000e-19    8350\n",
      "-1.620000e-19    6765\n",
      "-1.980000e-19    6765\n",
      "-1.530000e-19    4740\n",
      "-2.070000e-19    4740\n",
      "-1.440000e-19    2850\n",
      "-2.160000e-19    2850\n",
      "-1.350000e-19    1452\n",
      "-2.250000e-19    1452\n",
      "-1.260000e-19     615\n",
      "-2.340000e-19     615\n",
      "-1.170000e-19     210\n",
      "-2.430000e-19     210\n",
      "-1.080000e-19      55\n",
      "-2.520000e-19      55\n",
      "-2.610000e-19      10\n",
      "-9.900000e-20      10\n",
      "-9.000000e-20       1\n",
      "-2.700000e-19       1\n",
      "Name: count, dtype: int64\n",
      "21\n"
     ]
    }
   ],
   "source": [
    "Ei_diff = df['Ei'].value_counts() # Nombre de micro-états pour chaque énergie\n",
    "print(Ei_diff)\n",
    "nbr_Ei_diff = len(Ei_diff) # Nombre énergies différentes possibles\n",
    "print(nbr_Ei_diff)"
   ]
  },
  {
   "cell_type": "markdown",
   "id": "2818fefb",
   "metadata": {},
   "source": [
    "## Entropie statistique"
   ]
  },
  {
   "cell_type": "markdown",
   "id": "143929ac",
   "metadata": {},
   "source": [
    "><div class=\"alert alert-block alert-warning\"> $$ S_i = -k_B ln\\Omega _i $$"
   ]
  },
  {
   "cell_type": "code",
   "execution_count": 75,
   "id": "53606bb0",
   "metadata": {},
   "outputs": [],
   "source": [
    "# On mets les différentes énergies dans une liste\n",
    "Ei = []\n",
    "for i in Ei_diff.index:\n",
    "    Ei += [i]\n",
    "Ei.sort() # On trie la liste par ordre croissant\n",
    "\n",
    "# Calcul de l'entropie pour énergie Ei S = kB*ln(nbre micro-états avec Ei)\n",
    "# On bouce sur les différentes énergies\n",
    "S = []\n",
    "for i in Ei:\n",
    "    S += [kB*np.log(Ei_diff[i])]"
   ]
  },
  {
   "cell_type": "code",
   "execution_count": 76,
   "id": "123bbba6",
   "metadata": {},
   "outputs": [
    {
     "data": {
      "text/plain": [
       "Text(0, 0.5, 'Entropie statistique [J/K]')"
      ]
     },
     "execution_count": 76,
     "metadata": {},
     "output_type": "execute_result"
    },
    {
     "data": {
      "image/png": "[encoded data removed]",
      "text/plain": [
       "<Figure size 640x480 with 1 Axes>"
      ]
     },
     "metadata": {},
     "output_type": "display_data"
    }
   ],
   "source": [
    "plt.plot(Ei,S,'+')\n",
    "plt.xlabel('Energie [J]')\n",
    "plt.ylabel('Entropie statistique [J/K]')"
   ]
  },
  {
   "cell_type": "markdown",
   "id": "95056660",
   "metadata": {},
   "source": [
    "## Température "
   ]
  },
  {
   "cell_type": "markdown",
   "id": "2483f5a3",
   "metadata": {},
   "source": [
    "><div class=\"alert alert-block alert-warning\"> $$ \\frac{1}{T} = \\frac{\\partial S}{\\partial E} $$"
   ]
  },
  {
   "cell_type": "code",
   "execution_count": 77,
   "id": "3caae717",
   "metadata": {},
   "outputs": [
    {
     "name": "stderr",
     "output_type": "stream",
     "text": [
      "C:\\Users\\Galy_\\AppData\\Local\\Temp\\ipykernel_4296\\3802955271.py:5: RuntimeWarning: divide by zero encountered in scalar divide\n",
      "  T += [1/invT]\n"
     ]
    },
    {
     "data": {
      "text/plain": [
       "Text(0, 0.5, 'Température [K]')"
      ]
     },
     "execution_count": 77,
     "metadata": {},
     "output_type": "execute_result"
    },
    {
     "data": {
      "image/png": "[encoded data removed]",
      "text/plain": [
       "<Figure size 640x480 with 1 Axes>"
      ]
     },
     "metadata": {},
     "output_type": "display_data"
    }
   ],
   "source": [
    "# Cacul de la température schant que 1/T=dS/dE\n",
    "T = []\n",
    "for i in range(1,len(Ei)-1):\n",
    "    invT = (S[i+1]-S[i-1])/(Ei[i+1]-Ei[i-1])\n",
    "    T += [1/invT]\n",
    "\n",
    "plt.plot(Ei[1:-1],T,'+')\n",
    "plt.xlabel('Energie [J]')\n",
    "plt.ylabel('Température [K]')"
   ]
  },
  {
   "cell_type": "code",
   "execution_count": 40,
   "id": "3863c992",
   "metadata": {},
   "outputs": [],
   "source": [
    "# Données récupérées pour N=10\n",
    "\n",
    "# J = 1\n",
    "T1 = [3.1470614630670417e+22, 4.2507024026519495e+22, 5.4086547007070984e+22, 6.74385986666432e+22, 8.435092887674079e+22, 1.074528931854594e+23, 1.4244384505879094e+23, 2.0370719647478944e+23, 3.442471112778129e+23, 1.0392477822794957e+24, -1.0392477822794957e+24, -3.442471112778129e+23, -2.0370719647478944e+23, -1.4244384505879094e+23, -1.074528931854594e+23, -8.435092887674079e+22, -6.74385986666432e+22, -5.4086547007070984e+22, -4.2507024026519495e+22, -3.1470614630670417e+22]\n",
    "E1 = [-30, -29, -28, -27, -26, -25, -24, -23, -22, -21, -20, -19, -18, -17, -16, -15, -14, -13, -12, -11, -10]\n",
    "\n",
    "# J = 1/2\n",
    "T1_2 = [3.1470614630670417e+22, 4.81782176045298e+22, 7.388010491472946e+22, 1.2948842702111907e+23, 3.974503585323956e+23, -3.974503585323956e+23, -1.2948842702111907e+23, -7.388010491472946e+22, -4.81782176045298e+22, -3.1470614630670417e+22]\n",
    "E1_2 = [-20, -19, -18, -17, -16, -15, -14, -13, -12, -11, -10]\n",
    "\n",
    "# J = 3/2\n",
    "T3_2 = [3.1470614630670417e+22, 4.2507024026519495e+22, 5.2271559452498665e+22, 6.222361228443135e+22, 7.301404280901675e+22, 8.513919862687425e+22, 9.93314538092906e+22, 1.165652983022751e+23, 1.3833756512253652e+23, 1.6725369002454948e+23, 2.0814865999457667e+23, 2.7135483901246587e+23, 3.8378087134717406e+23, 6.438834821871619e+23, 1.9377344019869128e+24, -1.9377344019869128e+24, -6.438834821871619e+23, -3.8378087134717406e+23, -2.7135483901246587e+23, -2.0814865999457667e+23, -1.6725369002454948e+23, -1.3833756512253652e+23, -1.165652983022751e+23, -9.93314538092906e+22, -8.513919862687425e+22, -7.301404280901675e+22, -6.222361228443135e+22, -5.2271559452498665e+22, -4.2507024026519495e+22, -3.1470614630670417e+22]\n",
    "E3_2 = [-40, -39, -38, -37, -36, -35, -34, -33, -32, -31, -30, -29, -28, -27, -26, -25, -24, -23, -22, -21, -20, -19, -18, -17, -16, -15, -14, -13, -12, -11, -10]\n"
   ]
  },
  {
   "cell_type": "code",
   "execution_count": 41,
   "id": "b9abfd4b",
   "metadata": {},
   "outputs": [
    {
     "data": {
      "image/png": "[encoded data removed]",
      "text/plain": [
       "<Figure size 640x480 with 1 Axes>"
      ]
     },
     "metadata": {},
     "output_type": "display_data"
    }
   ],
   "source": [
    "# Tracé de la température en donction de l'énergie\n",
    "#plt.plot(E1[1:],T1,'+',label='J=1')\n",
    "plt.plot(E1_2[1:],T1_2,'+',label='J=1/2')\n",
    "#plt.plot(E3_2[1:],T3_2,'+',label='J=3/2')\n",
    "plt.xlabel('Température')\n",
    "plt.ylabel('Energie')\n",
    "plt.legend()\n",
    "plt.show()"
   ]
  },
  {
   "cell_type": "markdown",
   "id": "a9b30554",
   "metadata": {},
   "source": [
    "# Système thermostaté"
   ]
  },
  {
   "cell_type": "markdown",
   "id": "37c4db33",
   "metadata": {},
   "source": [
    "## Pour une température "
   ]
  },
  {
   "cell_type": "code",
   "execution_count": 50,
   "id": "65f6c0dd",
   "metadata": {},
   "outputs": [
    {
     "name": "stdout",
     "output_type": "stream",
     "text": [
      "Température du thermostat : Tth = 4655.0 K\n",
      "Energie associée à cette température : E = -1.89e-19 J\n"
     ]
    }
   ],
   "source": [
    "i = 8\n",
    "T_th = T[i] # on fixe une température\n",
    "E_th = Ei[i+1] # énergie assosciée\n",
    "\n",
    "print('Température du thermostat : Tth =', np.round(T_th),'K')\n",
    "print('Energie associée à cette température : E =',E_th,'J')\n",
    "\n",
    "kB = 1.38e-23\n",
    "Beta = 1/(kB*T_th)\n"
   ]
  },
  {
   "cell_type": "markdown",
   "id": "89bf8d85",
   "metadata": {},
   "source": [
    "><div class=\"alert alert-block alert-warning\">  Probabilité $P_i$ pour que l'atome du système soit sur le niveau d'énergie $E_i$ : $$ P_i = \\frac{N_i}{N}=\\frac{e^{-\\beta E_i}}{\\sum_i e^{-\\beta E_i}} $$ avec $$\\beta = \\frac{1}{k_BT}$$"
   ]
  },
  {
   "cell_type": "code",
   "execution_count": 51,
   "id": "c30d0033",
   "metadata": {},
   "outputs": [
    {
     "name": "stdout",
     "output_type": "stream",
     "text": [
      "   mi            Ei   Beta*Ei  exp(-Beta*Ei)        Pi   sum(Pi)         Pi*Ei\n",
      "0   1 -9.000000e-21 -0.140113       1.150404  0.287866  0.287866 -2.590798e-21\n",
      "1   2 -1.800000e-20 -0.280226       1.323429  0.331163  0.619029 -5.960928e-21\n",
      "2   3 -2.700000e-20 -0.420340       1.522479  0.380971  1.000000 -1.028621e-20\n"
     ]
    }
   ],
   "source": [
    "J = 1\n",
    "mi = 2*J+1\n",
    "\n",
    "df_ = pd.DataFrame({'mi' : np.arange(1,mi+1,1)}) # Tableau avec les différents 'sous-états' possibles pour un atome\n",
    "\n",
    "df_['Ei'] = [-df_['mi'][i]*B*muB for i in df_.index] # Energie de chaque 'sous état'\n",
    "\n",
    "df_['Beta*Ei'] = [Beta*df_['Ei'][i] for i in df_.index]\n",
    "\n",
    "df_['exp(-Beta*Ei)'] = [np.exp(-df_['Beta*Ei'][i]) for i in df_.index]\n",
    "\n",
    "# Fonction de partition\n",
    "zi = sum(df_['exp(-Beta*Ei)'])\n",
    "\n",
    "df_['Pi'] = [df_['exp(-Beta*Ei)'][i]/zi for i in df_.index] # Proba de chaque sous-état\n",
    "\n",
    "df_ = df_.sort_values(by = 'Pi') # on trie le dataframe par ordre croissant de proba\n",
    "\n",
    "# Colonne où pour chaque ligne on sommme la proba Pi d'un sous-état avec celle des sous-état précédents\n",
    "# La dernière est égale à 1 car on a sommé toutes les probas\n",
    "df_['sum(Pi)'] = [0 for i in df_.index]\n",
    "for i in df_.index:\n",
    "    if i==0:\n",
    "        df_['sum(Pi)'][i] = df_['Pi'][i]\n",
    "    else :\n",
    "        df_['sum(Pi)'][i] = df_['Pi'][i]+df_['sum(Pi)'][i-1]\n",
    "\n",
    "df_['Pi*Ei'] = [df_['Pi'][i]*df_['Ei'][i] for i in df_.index]\n",
    "\n",
    "# finalement on obtient un dataframe avec pour les différents sous-états considérés, les probas, énergie et autres associés\n",
    "print(df_)"
   ]
  },
  {
   "cell_type": "code",
   "execution_count": 59,
   "id": "6dea2b1e",
   "metadata": {},
   "outputs": [],
   "source": [
    "# Fonction qui créée aléatoirement un micro-état en considérant N atomes pouvant être chacun dans n'importe quel sous-état mi\n",
    "\n",
    "def crea_etats(N):\n",
    "    # Création d'une liste correspondant à la colonne sum(Pi)\n",
    "    sum_Pi = []\n",
    "    for i in df_.index:\n",
    "        if i == 0:\n",
    "            sum_Pi += [df_['Pi'][i]]\n",
    "        else :\n",
    "            sum_Pi += [df_['Pi'][i]+sum_Pi[-1]]\n",
    "    \n",
    "    pi = []\n",
    "    en = []\n",
    "    \n",
    "    for i in range(0,N):\n",
    "        x = random.random() # tire un nombre aléatoire entre 0 et 1 qui va nous permettre d'associer aléatoirement un sous-état à l'atome i \n",
    "        d = []\n",
    "        \n",
    "        # On compare ce nombre avec les différentes valeurs de la liste sum_Pi en la parcourant\n",
    "        for j in sum_Pi: \n",
    "            if j < x: # si x > l'élément j de la liste sum_Pi\n",
    "                d += [] # d reste vide\n",
    "                en += []\n",
    "            else : # sinon\n",
    "                d += [j] # on ajoute l'élément à la liste d\n",
    "\n",
    "        et = d[0] # on récupère seulement le premier élément de la liste car c'est celui qui nous intéresse car il correspond au sous-état dans lequel est l'atome        \n",
    "        \n",
    "        # on associé la proba et l'énergie que l'atome i a d'être dans ce sous-état\n",
    "        for h in df_.index:\n",
    "            if et == df_['sum(Pi)'][h]: # pour cela on compare et au valeurs de la colonne sum(Pi) du dataframe avec les sous-états possibles\n",
    "                pi += [df_['Pi'][h]] # proba associée \n",
    "                en += [df_['Ei'][h]/muB] # énergie associée \n",
    "                \n",
    "    # On boucle la procédure pour les N atomes et on obtient 2 listes \n",
    "    # pi : avec la probas de chaque atomes d'être dans un sous-état aléatoirement tiré\n",
    "    # en : avec l'énergie de chaque atomes associée à la proba qu'il soit dans le sous-état éléatoirement tiré\n",
    "    return pi, en"
   ]
  },
  {
   "cell_type": "code",
   "execution_count": 62,
   "id": "9c3eacdc",
   "metadata": {},
   "outputs": [
    {
     "name": "stdout",
     "output_type": "stream",
     "text": [
      "                                                  Et_Pi  \\\n",
      "0     [0.331162689045763, 0.331162689045763, 0.33116...   \n",
      "1     [0.331162689045763, 0.331162689045763, 0.33116...   \n",
      "2     [0.3809708897425428, 0.331162689045763, 0.3809...   \n",
      "3     [0.331162689045763, 0.331162689045763, 0.33116...   \n",
      "4     [0.331162689045763, 0.3809708897425428, 0.2878...   \n",
      "...                                                 ...   \n",
      "9995  [0.3809708897425428, 0.331162689045763, 0.2878...   \n",
      "9996  [0.331162689045763, 0.3809708897425428, 0.2878...   \n",
      "9997  [0.3809708897425428, 0.3809708897425428, 0.380...   \n",
      "9998  [0.3809708897425428, 0.2878664212116942, 0.331...   \n",
      "9999  [0.2878664212116942, 0.331162689045763, 0.3311...   \n",
      "\n",
      "                                                  Et_Ei       Energie  \n",
      "0     [-2.0, -3.0, -3.0, -1.0, -3.0, -3.0, -2.0, -3.... -2.160000e-19  \n",
      "1     [-3.0, -1.0, -2.0, -2.0, -1.0, -3.0, -1.0, -3.... -1.800000e-19  \n",
      "2     [-3.0, -2.0, -2.0, -3.0, -1.0, -2.0, -2.0, -3.... -2.160000e-19  \n",
      "3     [-2.0, -1.0, -2.0, -1.0, -2.0, -2.0, -2.0, -3.... -1.710000e-19  \n",
      "4     [-3.0, -3.0, -2.0, -1.0, -1.0, -1.0, -3.0, -3.... -1.800000e-19  \n",
      "...                                                 ...           ...  \n",
      "9995  [-2.0, -2.0, -3.0, -2.0, -3.0, -2.0, -3.0, -3.... -2.070000e-19  \n",
      "9996  [-1.0, -1.0, -1.0, -3.0, -3.0, -2.0, -3.0, -3.... -1.890000e-19  \n",
      "9997  [-1.0, -2.0, -1.0, -2.0, -1.0, -2.0, -1.0, -2.... -1.530000e-19  \n",
      "9998  [-3.0, -3.0, -3.0, -3.0, -3.0, -2.0, -1.0, -3.... -2.340000e-19  \n",
      "9999  [-1.0, -1.0, -3.0, -3.0, -3.0, -1.0, -2.0, -3.... -1.800000e-19  \n",
      "\n",
      "[10000 rows x 3 columns]\n"
     ]
    }
   ],
   "source": [
    "N = 10 # Nombre d'atomes\n",
    "M = 10000 # Nombre d'états différents qu'on veut créer\n",
    "\n",
    "df_etats = pd.DataFrame(index=range(0,M)) # Création dataframe avec M états\n",
    "\n",
    "df_etats['Et_Pi'] = [crea_etats(N)[0] for i in df_etats.index] # Colonnes avec les probas de chaque atome pour tous les états\n",
    "df_etats['Et_Ei'] = [crea_etats(N)[1] for i in df_etats.index] # Colonnes avec les énergies de chaque atome pour tous les états\n",
    "\n",
    "df_etats['Energie'] = [sum(df_etats['Et_Ei'][i])*muB for i in df_etats.index]  # Cacul de l'énergie de chaque état en sommant les énergies de chaque atomes de l'état\n",
    "\n",
    "print(df_etats)"
   ]
  },
  {
   "cell_type": "code",
   "execution_count": 67,
   "id": "a4c0850a",
   "metadata": {},
   "outputs": [
    {
     "name": "stdout",
     "output_type": "stream",
     "text": [
      "Energie\n",
      "-1.890000e-19    1556\n",
      "-1.980000e-19    1414\n",
      "-1.800000e-19    1378\n",
      "-1.710000e-19    1170\n",
      "-2.070000e-19    1142\n",
      "-2.160000e-19     813\n",
      "-1.620000e-19     773\n",
      "-1.530000e-19     523\n",
      "-2.250000e-19     468\n",
      "-1.440000e-19     257\n",
      "-2.340000e-19     223\n",
      "-1.350000e-19      99\n",
      "-2.430000e-19      92\n",
      "-2.520000e-19      35\n",
      "-1.260000e-19      33\n",
      "-1.170000e-19      15\n",
      "-1.080000e-19       5\n",
      "-2.610000e-19       4\n",
      "Name: count, dtype: int64\n"
     ]
    },
    {
     "data": {
      "text/plain": [
       "Text(0, 0.5, 'Nombre d etats')"
      ]
     },
     "execution_count": 67,
     "metadata": {},
     "output_type": "execute_result"
    },
    {
     "data": {
      "image/png": "[encoded data removed]",
      "text/plain": [
       "<Figure size 640x480 with 1 Axes>"
      ]
     },
     "metadata": {},
     "output_type": "display_data"
    }
   ],
   "source": [
    "Energie_etats = df_etats['Energie'].value_counts() # Nombre états pour chaque énergie\n",
    "print(Energie_etats)\n",
    "plt.plot(Energie_etats,'+')\n",
    "plt.xlabel('Energie [J]')\n",
    "plt.ylabel('Nombre d etats')"
   ]
  },
  {
   "cell_type": "code",
   "execution_count": 68,
   "id": "8132005a",
   "metadata": {},
   "outputs": [
    {
     "name": "stdout",
     "output_type": "stream",
     "text": [
      "Energie correspondant au maximum de la courbe précédente : E = -1.89e-19 J\n"
     ]
    }
   ],
   "source": [
    "# Affichage du max de la courbe précédente qui correspond bien à l'énergie qu'on a calculé dans le cas du système isolé pour cette température de thermostat\n",
    "print('Energie correspondant au maximum de la courbe précédente : E =',Energie_etats.idxmax(),'J') "
   ]
  },
  {
   "cell_type": "code",
   "execution_count": null,
   "id": "130ecd06",
   "metadata": {},
   "outputs": [],
   "source": []
  }
 ],
 "metadata": {
  "kernelspec": {
   "display_name": "Python 3 (ipykernel)",
   "language": "python",
   "name": "python3"
  },
  "language_info": {
   "codemirror_mode": {
    "name": "ipython",
    "version": 3
   },
   "file_extension": ".py",
   "mimetype": "text/x-python",
   "name": "python",
   "nbconvert_exporter": "python",
   "pygments_lexer": "ipython3",
   "version": "3.11.5"
  }
 },
 "nbformat": 4,
 "nbformat_minor": 5
}
